{
 "cells": [
  {
   "cell_type": "markdown",
   "metadata": {},
   "source": [
    "# Camera and Image\n",
    "https://docs.opencv.org/3.4/d6/d0f/group__dnn.html"
   ]
  },
  {
   "cell_type": "markdown",
   "metadata": {},
   "source": [
    "## Face Detection "
   ]
  },
  {
   "cell_type": "code",
   "execution_count": 4,
   "metadata": {},
   "outputs": [],
   "source": [
    "%matplotlib inline\n",
    "\n",
    "import cv2\n",
    "import numpy as np\n",
    "\n",
    "import time"
   ]
  },
  {
   "cell_type": "markdown",
   "metadata": {},
   "source": [
    "#### Networks"
   ]
  },
  {
   "cell_type": "code",
   "execution_count": 5,
   "metadata": {},
   "outputs": [],
   "source": [
    "facenet = cv2.dnn.readNet(\"face-detection-retail-0005.bin\",\"face-detection-retail-0005.xml\")\n",
    "agenet = cv2.dnn.readNet(\"age-gender-recognition-retail-0013.bin\",\"age-gender-recognition-retail-0013.xml\")\n",
    "emonet = cv2.dnn.readNet(\"emotions-recognition-retail-0003.bin\",\"emotions-recognition-retail-0003.xml\")"
   ]
  },
  {
   "cell_type": "markdown",
   "metadata": {},
   "source": [
    "#### Video Stream"
   ]
  },
  {
   "cell_type": "code",
   "execution_count": 6,
   "metadata": {},
   "outputs": [],
   "source": [
    "# Start Video Stream\n",
    "label = ('Female', 'Male')\n",
    "emotion_label = ('Neutral', 'Happy', 'Sad', 'Surprise', 'Anger')\n",
    "font = cv2.FONT_HERSHEY_SIMPLEX\n",
    "cap = cv2.VideoCapture(0)\n",
    "fps = 25\n",
    "width = int(cap.get(cv2.CAP_PROP_FRAME_WIDTH))\n",
    "height = int(cap.get(cv2.CAP_PROP_FRAME_HEIGHT))\n",
    "\n",
    "\n",
    "# Define the codec and create VideoWriter object.The output is stored in 'outpy.avi' file.\n",
    "writer = cv2.VideoWriter('Mask Face Detection.mp4', cv2.VideoWriter_fourcc(*'DIVX'), fps, (width, height))\n",
    "\n",
    "while cv2.waitKey(1) < 0:\n",
    "    ret, frame = cap.read()\n",
    "    \n",
    "\n",
    "    if not ret:\n",
    "        break\n",
    " \n",
    "    try:\n",
    "        start_time = time.time()\n",
    "        \n",
    "        blob = cv2.dnn.blobFromImage(frame)\n",
    "        facenet.setInput(blob)\n",
    "        out = facenet.forward()\n",
    "\n",
    "\n",
    "        for detection in out.reshape(-1, 7):\n",
    "            confidence = float(detection[2])\n",
    "            xmin = int(detection[3] * frame.shape[1])\n",
    "            ymin = int(detection[4] * frame.shape[0])\n",
    "            xmax = int(detection[5] * frame.shape[1])\n",
    "            ymax = int(detection[6] * frame.shape[0])\n",
    "\n",
    "            if confidence > 0.5:\n",
    "                #cv2.rectangle(frame, (xmin, ymin), (xmax, ymax), color=(0, 255, 0))\n",
    "                face_crop = frame[ymin-10:ymax+10,xmin-10:xmax+10]\n",
    "\n",
    "\n",
    "                agebolb = cv2.dnn.blobFromImage(face_crop,size = (62,62))\n",
    "                agenet.setInput(agebolb)\n",
    "                ageout =  agenet.forward(['age_conv3','prob'])\n",
    "\n",
    "                age = round(ageout[0].reshape(-1)[0]*100)\n",
    "                gender = label[np.argmax(ageout[1])]\n",
    "\n",
    "\n",
    "\n",
    "                # EmotionNet\n",
    "                emobolb = cv2.dnn.blobFromImage(face_crop,size = (64,64))\n",
    "                emonet.setInput(emobolb)\n",
    "                emoout =  emonet.forward()    \n",
    "                # EmotionOutput\n",
    "                emotion = emotion_label[np.argmax(emoout.reshape(-1))]\n",
    "\n",
    "                \n",
    "\n",
    "                cv2.putText(frame,text=\"Age:{:.1f} Gender:{}\".format(age, gender),\n",
    "\n",
    "                            org=(xmin,ymin-10), \n",
    "\n",
    "\n",
    "                            fontFace=font,fontScale= 0.5,color=(125,255,125),thickness=2,lineType=cv2.LINE_AA)\n",
    "\n",
    "                cv2.putText(frame,text=\"Emotion Status: {}\".format(emotion),\n",
    "\n",
    "                            org=(xmin,ymin-30),  # X. Y\n",
    "\n",
    "                            fontFace=font,fontScale= 0.5,color=(0,255,125),thickness=2,lineType=cv2.LINE_AA)\n",
    "\n",
    "\n",
    "\n",
    "        \n",
    "        end_time = time.time()\n",
    "        fps = np.round(1/(end_time-start_time))\n",
    "        \n",
    "        cv2.putText(frame,text=\"Current FPS: {}\".format(fps),\n",
    "\n",
    "        org=(10,30),  # X. Y\n",
    "\n",
    "        fontFace=font,fontScale= 0.5,color=(0,0,255),thickness=2,lineType=cv2.LINE_AA)\n",
    "        writer.write(frame)\n",
    "        cv2.imshow('OpenVINO face detection', frame)\n",
    "        \n",
    "\n",
    "    except:\n",
    "        pass\n",
    "    \n",
    "    if cv2.waitKey(1) & 0xFF == ord('q'):\n",
    "        break \n",
    "        \n",
    "\n",
    "    \n",
    "# When everything done, realease the capture and destroy the windows\n",
    "cap.release()\n",
    "writer.release()\n",
    "cv2.destroyAllWindows()"
   ]
  },
  {
   "cell_type": "code",
   "execution_count": null,
   "metadata": {},
   "outputs": [],
   "source": []
  },
  {
   "cell_type": "code",
   "execution_count": null,
   "metadata": {},
   "outputs": [],
   "source": []
  }
 ],
 "metadata": {
  "kernelspec": {
   "display_name": "Python 3",
   "language": "python",
   "name": "python3"
  },
  "language_info": {
   "codemirror_mode": {
    "name": "ipython",
    "version": 3
   },
   "file_extension": ".py",
   "mimetype": "text/x-python",
   "name": "python",
   "nbconvert_exporter": "python",
   "pygments_lexer": "ipython3",
   "version": "3.7.4"
  }
 },
 "nbformat": 4,
 "nbformat_minor": 2
}
