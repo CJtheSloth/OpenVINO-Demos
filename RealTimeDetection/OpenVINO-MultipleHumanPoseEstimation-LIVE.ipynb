{
 "cells": [
  {
   "cell_type": "code",
   "execution_count": 1,
   "metadata": {},
   "outputs": [],
   "source": [
    "%matplotlib inline\n",
    "import cv2\n",
    "import numpy as np\n",
    "import matplotlib.pyplot as plt\n",
    "import time"
   ]
  },
  {
   "cell_type": "markdown",
   "metadata": {},
   "source": [
    "#### Knuckle Map"
   ]
  },
  {
   "cell_type": "code",
   "execution_count": 2,
   "metadata": {},
   "outputs": [],
   "source": [
    "keypointsMapping = ['Nose', 'Neck', 'R-Sho', 'R-Elb', 'R-Wr', 'L-Sho', 'L-Elb', 'L-Wr', 'R-Hip', 'R-Knee', 'R-Ank', 'L-Hip', 'L-Knee', 'L-Ank', 'R-Eye', 'L-Eye', 'R-Ear', 'L-Ear']\n",
    "POSE_PAIRS = [[1,2], [1,5], [2,3], [3,4], [5,6], [6,7], [1,8], [8,9], [9,10], [1,11], [11,12], [12,13], [1,0], [0,14], [14,16], [0,15], [15,17]]\n",
    "nPoints = 18\n",
    "threshold = 0.1"
   ]
  },
  {
   "cell_type": "markdown",
   "metadata": {},
   "source": [
    "#### Network"
   ]
  },
  {
   "cell_type": "code",
   "execution_count": 3,
   "metadata": {},
   "outputs": [],
   "source": [
    "pose_detection = cv2.dnn.readNet(\"human-pose-estimation-0001.bin\",\n",
    "                           \"human-pose-estimation-0001.xml\")\n",
    "\n",
    "person_detection = cv2.dnn.readNet(\"person-detection-retail-0013.bin\",\n",
    "                                  \"person-detection-retail-0013.xml\")\n"
   ]
  },
  {
   "cell_type": "code",
   "execution_count": 4,
   "metadata": {},
   "outputs": [],
   "source": [
    "cap = cv2.VideoCapture(0)\n",
    "font = cv2.FONT_HERSHEY_SIMPLEX\n",
    "width = int(cap.get(cv2.CAP_PROP_FRAME_WIDTH))\n",
    "height = int(cap.get(cv2.CAP_PROP_FRAME_HEIGHT))\n",
    "fps = 25\n",
    "cap.set(cv2.CAP_PROP_FRAME_WIDTH,912)\n",
    "cap.set(cv2.CAP_PROP_FRAME_HEIGHT,512)\n",
    "\n",
    "\n",
    "# Define the codec and create VideoWriter object.The output is stored in 'outpy.avi' file.\n",
    "writer = cv2.VideoWriter('MultiPersonDetection.mp4', cv2.VideoWriter_fourcc(*'DIVX'), fps, (width, height))\n",
    "\n",
    "while cv2.waitKey(1) < 0:\n",
    "    ret, frame = cap.read()\n",
    "    if not ret:\n",
    "        break\n",
    "    \n",
    "    try:\n",
    "        start_time = time.time()\n",
    "        person_bolb = cv2.dnn.blobFromImage(frame,size = (300,300))\n",
    "        person_detection.setInput(person_bolb)\n",
    "        person_output = person_detection.forward()\n",
    "\n",
    "\n",
    "        for detection in person_output.reshape(-1, 7):\n",
    "            points = []\n",
    "            confidence = float(detection[2])\n",
    "            xmin = int(detection[3] * frame.shape[1])\n",
    "            ymin = int(detection[4] * frame.shape[0])\n",
    "            xmax = int(detection[5] * frame.shape[1])\n",
    "            ymax = int(detection[6] * frame.shape[0])\n",
    "\n",
    "            if confidence > 0.7:\n",
    "                cv2.rectangle(frame, (xmin, ymin), (xmax, ymax), color=(0, 255, 0),thickness = 3)\n",
    "                detection_box = frame[ymin:ymax,xmin:xmax]\n",
    "\n",
    "                pose_blob = cv2.dnn.blobFromImage(detection_box,size =(256,456))\n",
    "                pose_detection.setInput(pose_blob)\n",
    "                pose_output = pose_detection.forward(['Mconv7_stage2_L1', 'Mconv7_stage2_L2'])\n",
    "\n",
    "                frameWidth = detection_box.shape[1]\n",
    "                frameHeight = detection_box.shape[0]\n",
    "                H = pose_output[1].shape[2]\n",
    "                W = pose_output[1].shape[3]          \n",
    "\n",
    "                for i in range(18):\n",
    "                    probMap = pose_output[1][0,i,:,:]\n",
    "\n",
    "                    minVal, maxVal, minLoc, point = cv2.minMaxLoc(probMap)\n",
    "\n",
    "                    #print(\"MaxVal\")\n",
    "                    #print(maxVal)\n",
    "\n",
    "                    # Scale the point to fit on the original image\n",
    "                    x = (frameWidth * point[0]) / W\n",
    "                    y = (frameHeight * point[1]) / H\n",
    "\n",
    "                    if maxVal > threshold:\n",
    "                        points.append((int(x),int(y)))\n",
    "\n",
    "                    else:\n",
    "                        points.append(None)\n",
    "\n",
    "\n",
    "                for pair in POSE_PAIRS:\n",
    "                    partA = pair[0]\n",
    "                    partB = pair[1]\n",
    "                    #print(partA)\n",
    "                    #print(partB)\n",
    "\n",
    "\n",
    "                    if points[partA] and points[partB]:\n",
    "        #                 print(points[partA],points[partB])\n",
    "                        cv2.line(detection_box,points[partA],points[partB],(0,255,0),3)   \n",
    "            \n",
    "        end_time = time.time()\n",
    "        fps = np.round(1/(end_time-start_time))\n",
    "        \n",
    "        cv2.putText(frame,text=\"Current FPS: {}\".format(fps),\n",
    "        org=(0,30),  # X. Y\n",
    "        fontFace=font,fontScale= 0.5,color=(0,0,255),thickness=2,lineType=cv2.LINE_AA)        \n",
    "            \n",
    "        \n",
    "        cv2.imshow('OpenVINO person detection', frame)\n",
    "            \n",
    "    except:\n",
    "        cv2.imshow('OpenVINO person detection', frame)\n",
    "        pass\n",
    "    \n",
    "    writer.write(frame)    \n",
    "    if cv2.waitKey(1) & 0xFF == ord('q'):\n",
    "        break \n",
    "            \n",
    "# When everything done, realease the capture and destroy the windows\n",
    "cap.release()\n",
    "writer.release()\n",
    "cv2.destroyAllWindows()"
   ]
  },
  {
   "cell_type": "code",
   "execution_count": null,
   "metadata": {},
   "outputs": [],
   "source": []
  },
  {
   "cell_type": "code",
   "execution_count": null,
   "metadata": {},
   "outputs": [],
   "source": []
  }
 ],
 "metadata": {
  "kernelspec": {
   "display_name": "Python 3",
   "language": "python",
   "name": "python3"
  },
  "language_info": {
   "codemirror_mode": {
    "name": "ipython",
    "version": 3
   },
   "file_extension": ".py",
   "mimetype": "text/x-python",
   "name": "python",
   "nbconvert_exporter": "python",
   "pygments_lexer": "ipython3",
   "version": "3.7.4"
  }
 },
 "nbformat": 4,
 "nbformat_minor": 2
}
