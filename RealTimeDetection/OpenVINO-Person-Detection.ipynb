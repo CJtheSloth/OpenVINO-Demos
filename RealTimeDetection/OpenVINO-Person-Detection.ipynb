{
 "cells": [
  {
   "cell_type": "code",
   "execution_count": 1,
   "metadata": {},
   "outputs": [],
   "source": [
    "%matplotlib inline\n",
    "import cv2\n",
    "import numpy as np\n",
    "import time"
   ]
  },
  {
   "cell_type": "code",
   "execution_count": 2,
   "metadata": {},
   "outputs": [],
   "source": [
    "person_net = cv2.dnn.readNet(\"person-detection-retail-0013.bin\",\n",
    "                             \"person-detection-retail-0013.xml\")"
   ]
  },
  {
   "cell_type": "code",
   "execution_count": 3,
   "metadata": {},
   "outputs": [],
   "source": [
    "cap = cv2.VideoCapture(0)\n",
    "\n",
    "width = int(cap.get(cv2.CAP_PROP_FRAME_WIDTH))\n",
    "height = int(cap.get(cv2.CAP_PROP_FRAME_HEIGHT))\n",
    "fps = 25\n",
    "font = cv2.FONT_HERSHEY_SIMPLEX\n",
    "\n",
    "# Define the codec and create VideoWriter object.The output is stored in 'outpy.avi' file.\n",
    "writer = cv2.VideoWriter('PersonDetection.mp4', cv2.VideoWriter_fourcc(*'DIVX'), fps, (width, height))\n",
    "\n",
    "while cv2.waitKey(1) < 0:\n",
    "    ret, frame = cap.read()\n",
    "    if not ret:\n",
    "        break\n",
    " \n",
    "    try:\n",
    "        start_time = time.time()\n",
    "        \n",
    "        blob = cv2.dnn.blobFromImage(frame,size = (200,200))\n",
    "        person_net.setInput(blob)\n",
    "        out = person_net.forward()\n",
    "\n",
    "\n",
    "        for detection in out.reshape(-1, 7):\n",
    "            confidence = float(detection[2])\n",
    "            xmin = int(detection[3] * frame.shape[1])\n",
    "            ymin = int(detection[4] * frame.shape[0])\n",
    "            xmax = int(detection[5] * frame.shape[1])\n",
    "            ymax = int(detection[6] * frame.shape[0])\n",
    "\n",
    "            if confidence > 0.4:\n",
    "                cv2.rectangle(frame, (xmin, ymin), (xmax, ymax), color=(0, 255, 0),thickness = 5)\n",
    "                \n",
    "\n",
    "\n",
    "        \n",
    "        end_time = time.time()\n",
    "        fps = np.round(1/(end_time-start_time))\n",
    "        cv2.putText(frame,text=\"Current FPS: {}\".format(fps),\n",
    "        org=(0,30),  # X. Y\n",
    "        fontFace=font,fontScale= 0.5,color=(0,0,255),thickness=2,lineType=cv2.LINE_AA)\n",
    "        \n",
    "        writer.write(frame)\n",
    "        cv2.imshow('OpenVINO face detection', frame)\n",
    "        \n",
    "\n",
    "    except:\n",
    "        print(\"Error\")\n",
    "        pass\n",
    "    \n",
    "    if cv2.waitKey(1) & 0xFF == ord('q'):\n",
    "        break \n",
    "        \n",
    "\n",
    "    \n",
    "# When everything done, realease the capture and destroy the windows\n",
    "cap.release()\n",
    "writer.release()\n",
    "cv2.destroyAllWindows()"
   ]
  },
  {
   "cell_type": "code",
   "execution_count": null,
   "metadata": {},
   "outputs": [],
   "source": []
  }
 ],
 "metadata": {
  "kernelspec": {
   "display_name": "Python 3",
   "language": "python",
   "name": "python3"
  },
  "language_info": {
   "codemirror_mode": {
    "name": "ipython",
    "version": 3
   },
   "file_extension": ".py",
   "mimetype": "text/x-python",
   "name": "python",
   "nbconvert_exporter": "python",
   "pygments_lexer": "ipython3",
   "version": "3.7.4"
  }
 },
 "nbformat": 4,
 "nbformat_minor": 2
}
