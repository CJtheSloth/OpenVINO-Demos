{
 "cells": [
  {
   "cell_type": "code",
   "execution_count": 1,
   "metadata": {},
   "outputs": [],
   "source": [
    "%matplotlib inline\n",
    "import cv2\n",
    "import numpy as np\n",
    "import matplotlib.pyplot as plt\n",
    "import time"
   ]
  },
  {
   "cell_type": "markdown",
   "metadata": {},
   "source": [
    "# Knuckle Map"
   ]
  },
  {
   "cell_type": "code",
   "execution_count": 2,
   "metadata": {},
   "outputs": [],
   "source": [
    "keypointsMapping = ['Nose', 'Neck', 'R-Sho', 'R-Elb', 'R-Wr', 'L-Sho', 'L-Elb', 'L-Wr', 'R-Hip', 'R-Knee', 'R-Ank', 'L-Hip', 'L-Knee', 'L-Ank', 'R-Eye', 'L-Eye', 'R-Ear', 'L-Ear']\n",
    "POSE_PAIRS = [[1,2], [1,5], [2,3], [3,4], [5,6], [6,7], [1,8], [8,9], [9,10], [1,11], [11,12], [12,13], [1,0], [0,14], [14,16], [0,15], [15,17]]\n",
    "nPoints = 18\n",
    "threshold = 0.1"
   ]
  },
  {
   "cell_type": "markdown",
   "metadata": {},
   "source": [
    "#### Network"
   ]
  },
  {
   "cell_type": "code",
   "execution_count": 3,
   "metadata": {},
   "outputs": [],
   "source": [
    "pose_net = cv2.dnn.readNet(\"human-pose-estimation-0001.bin\",\n",
    "                           \"human-pose-estimation-0001.xml\")"
   ]
  },
  {
   "cell_type": "code",
   "execution_count": 4,
   "metadata": {
    "scrolled": true
   },
   "outputs": [],
   "source": [
    "cap = cv2.VideoCapture(0)\n",
    "font = cv2.FONT_HERSHEY_SIMPLEX\n",
    "width = int(cap.get(cv2.CAP_PROP_FRAME_WIDTH))\n",
    "height = int(cap.get(cv2.CAP_PROP_FRAME_HEIGHT))\n",
    "fps = 25\n",
    "\n",
    "\n",
    "# cap.set(cv2.CAP_PROP_FRAME_WIDTH)\n",
    "# cap.set(cv2.CAP_PROP_FRAME_HEIGHT)\n",
    "\n",
    "\n",
    "# Define the codec and create VideoWriter object.The output is stored in 'outpy.avi' file.\n",
    "writer = cv2.VideoWriter('S-Humanpose.mp4', cv2.VideoWriter_fourcc(*'DIVX'), fps, (width, height))\n",
    "\n",
    "while cv2.waitKey(1) < 0:\n",
    "    ret, frame = cap.read()\n",
    "    if not ret:\n",
    "        break\n",
    "    \n",
    "    \n",
    "            \n",
    "    try:\n",
    "        points = []\n",
    "        start_time = time.time()\n",
    "        \n",
    "        pose_blob = cv2.dnn.blobFromImage(frame,size = (456,256))\n",
    "        pose_net.setInput(pose_blob)\n",
    "        pose_output = pose_net.forward(['Mconv7_stage2_L1', 'Mconv7_stage2_L2'])\n",
    "\n",
    "\n",
    "        H = pose_output[1].shape[2]\n",
    "        W = pose_output[1].shape[3]\n",
    "\n",
    "        frameWidth = frame.shape[1]\n",
    "        frameHeight = frame.shape[0]\n",
    "\n",
    "\n",
    "        for i in range(18):\n",
    "            probMap = pose_output[1][0,i,:,:]\n",
    "\n",
    "            minVal, maxVal, minLoc, point = cv2.minMaxLoc(probMap)\n",
    "\n",
    "            # Scale the point to fit on the original image\n",
    "            x = (frameWidth * point[0]) / W\n",
    "            y = (frameHeight * point[1]) / H\n",
    "\n",
    "            if maxVal > threshold:\n",
    "                points.append((int(x),int(y)))\n",
    "\n",
    "            else:\n",
    "                points.append(None)\n",
    "\n",
    "        for pair in POSE_PAIRS:\n",
    "            partA = pair[0]\n",
    "            partB = pair[1]\n",
    "\n",
    "            if points[partA] and points[partB]:\n",
    "                cv2.line(frame,points[partA],points[partB],(0,255,0),3)\n",
    "\n",
    "                \n",
    "        end_time = time.time()\n",
    "        fps = np.round(1/(end_time-start_time))\n",
    "        \n",
    "        cv2.putText(frame,text=\"Current FPS: {}\".format(fps),\n",
    "        org=(0,30),  # X. Y\n",
    "        fontFace=font,fontScale= 0.5,color=(0,0,255),thickness=2,lineType=cv2.LINE_AA)\n",
    "              \n",
    "            \n",
    "        \n",
    "        cv2.imshow('OpenVINO person detection', frame)\n",
    "        writer.write(frame)  \n",
    "        \n",
    "    except:\n",
    "        cv2.imshow('OpenVINO person detection', frame)\n",
    "        pass\n",
    "\n",
    "    if cv2.waitKey(1) & 0xFF == ord('q'):\n",
    "        break \n",
    "        \n",
    "\n",
    "    \n",
    "# When everything done, realease the capture and destroy the windows\n",
    "cap.release()\n",
    "writer.release()\n",
    "cv2.destroyAllWindows()"
   ]
  },
  {
   "cell_type": "code",
   "execution_count": null,
   "metadata": {},
   "outputs": [],
   "source": []
  }
 ],
 "metadata": {
  "kernelspec": {
   "display_name": "Python 3",
   "language": "python",
   "name": "python3"
  },
  "language_info": {
   "codemirror_mode": {
    "name": "ipython",
    "version": 3
   },
   "file_extension": ".py",
   "mimetype": "text/x-python",
   "name": "python",
   "nbconvert_exporter": "python",
   "pygments_lexer": "ipython3",
   "version": "3.7.4"
  }
 },
 "nbformat": 4,
 "nbformat_minor": 4
}
